{
 "cells": [
  {
   "cell_type": "code",
   "execution_count": 188,
   "metadata": {},
   "outputs": [],
   "source": [
    "def order_weight(strng):\n",
    "    strng = strng.split(\" \")\n",
    "    print('strng :', strng )\n",
    "    digits = []\n",
    "    sum_digits = []\n",
    "    dictry = {}\n",
    "    for i in strng:\n",
    "        digits.append(int(a) for a in i)\n",
    "    #print('digits :', digits )\n",
    "    for i in digits:\n",
    "        sum_digits.append(sum(i))\n",
    "    print('sum_digits :', sum_digits )\n",
    "    for i in range(len(sum_digits)):\n",
    "        dictry[strng[i]] = sum_digits[i]\n",
    "    #a dictionary sorted according to its values\n",
    "    sort_dictry = sorted(dictry.items(), key = lambda x: x[1], reverse = False) #sorting by values\n",
    "    print('sort_dictry :', sort_dictry )\n",
    "    #just the values for the sorted dictionary\n",
    "    sort_vals = [a[1] for a in sort_dictry]\n",
    "    #print('sort_vals :', sort_vals )\n",
    "    #number of unique values(to calculate the repetitions)\n",
    "    unique_sort_values = sorted(set([a[1] for a in sort_dictry]), key = sort_vals.index) #unique values\n",
    "    #print('unique_sort_values :', unique_sort_values )\n",
    "    #has the count of number repetitions of a specific value\n",
    "    counts =[] \n",
    "    for i in unique_sort_values:\n",
    "        counts.append(sort_vals.count(i))\n",
    "    #for those that have repetitions, we sort alphabetically now\n",
    "    alpha_sort = []\n",
    "    count =0 \n",
    "    for j in counts:\n",
    "        if j>1:\n",
    "            sort_level_2 = sorted(sort_dictry[count: count+j], key = lambda x: x[0], reverse = False)\n",
    "            alpha_sort.append(sort_level_2)\n",
    "            count+=j\n",
    "        else:\n",
    "            alpha_sort.append([sort_dictry[count]])\n",
    "            count+=j\n",
    "    #after second step of sorting, we unpack from list of lists coz we only need the keys(original numbers)\n",
    "    unpack_1 = [j for i in alpha_sort for j in i] \n",
    "    #converting it to a string\n",
    "    strng_new = \"\"\n",
    "    for i in unpack_1:\n",
    "        strng_new+= str(i[0])+\" \"\n",
    "    strng_new = strng_new.strip()\n",
    "    return strng_new\n",
    "#alpha_sort = [j for i in alpha_sort for j in i]"
   ]
  },
  {
   "cell_type": "code",
   "execution_count": 189,
   "metadata": {},
   "outputs": [
    {
     "name": "stdout",
     "output_type": "stream",
     "text": [
      "strng : ['2000', '10003', '11', '11', '123', '22', '1234000', '44444444', '9999']\n",
      "sum_digits : [2, 4, 2, 2, 6, 4, 10, 32, 36]\n",
      "sort_dictry : [('2000', 2), ('11', 2), ('10003', 4), ('22', 4), ('123', 6), ('1234000', 10), ('44444444', 32), ('9999', 36)]\n"
     ]
    }
   ],
   "source": [
    "sort_dictry = order_weight(\"2000 10003 11 11 123 22 1234000 44444444 9999\")"
   ]
  },
  {
   "cell_type": "code",
   "execution_count": 187,
   "metadata": {},
   "outputs": [
    {
     "data": {
      "text/plain": [
       "'11 2000 10003 22 123 1234000 44444444 9999'"
      ]
     },
     "execution_count": 187,
     "metadata": {},
     "output_type": "execute_result"
    }
   ],
   "source": [
    "sort_dictry"
   ]
  },
  {
   "cell_type": "code",
   "execution_count": null,
   "metadata": {},
   "outputs": [],
   "source": [
    "#shorter\n",
    "def order_weight(strng):\n",
    "    strng = strng.split(\" \")\n",
    "    digits = [int(a) for i in strng for a in i]\n",
    "    sum_digits = [sum(i) for i in digits]\n",
    "    dictry = {}\n",
    "    for i in range(len(sum_digits)):\n",
    "        dictry[strng[i]] = sum_digits[i]\n",
    "    sort_dictry = sorted(dictry.items(), key = lambda x: x[1], reverse = False)\n",
    "    unique_sort_values = set([a[1] for a in sort_dictry]) #unique values\n",
    "    counts =[] \n",
    "    for i in unique_sort_values:\n",
    "        counts.append(sort_vals.count(i))\n",
    "    alpha_sort = []\n",
    "    count =0 \n",
    "    for j in counts:\n",
    "        if j>1:\n",
    "            sort_level_2 = sorted(sort_dictry[count: count+j], key = lambda x: x[0], reverse = False)\n",
    "            alpha_sort.append(sort_level_2)\n",
    "            count+=j\n",
    "        else:\n",
    "            alpha_sort.append([sort_dictry[count]])\n",
    "            count+=j\n",
    "    unpack_1 = [j for i in alpha_sort for j in i]\n",
    "    strng_new = \"\"\n",
    "    for i in unpack_1:\n",
    "        strng_new+= str(i[0])+\" \"\n",
    "    strng_new= strng_new.strip()\n",
    "    return strng_new\n",
    "#alpha_sort = [j for i in alpha_sort for j in i]\n"
   ]
  },
  {
   "cell_type": "code",
   "execution_count": 192,
   "metadata": {},
   "outputs": [],
   "source": [
    "def order_weight(strng):\n",
    "    strng = strng.split(\" \")\n",
    "    digits = []\n",
    "    sum_digits = []\n",
    "    list_key_val = []\n",
    "    for i in strng:\n",
    "        digits.append(int(a) for a in i)\n",
    "    for i in digits:\n",
    "        sum_digits.append(sum(i))\n",
    "    for i in range(len(sum_digits)):\n",
    "        list_key_val.append([strng[i],sum_digits[i]])\n",
    "    #a list of lists sorted according to its values(2nd element)\n",
    "    sort_list_key_val = sorted(list_key_val, key = lambda x: x[1], reverse = False) #sorting by values\n",
    "    #just the values for the sorted list of lists\n",
    "    sort_vals = [a[1] for a in sort_list_key_val]\n",
    "    #number of unique values(to calculate the repetitions)\n",
    "    unique_sort_values = sorted(set([a[1] for a in sort_list_key_val]), key = sort_vals.index) #unique values\n",
    "    #has the count of number repetitions of a specific value\n",
    "    counts =[] \n",
    "    for i in unique_sort_values:\n",
    "        counts.append(sort_vals.count(i))\n",
    "    #for those that have repetitions, we sort alphabetically now\n",
    "    alpha_sort = []\n",
    "    count =0 \n",
    "    for j in counts:\n",
    "        if j>1:\n",
    "            sort_level_2 = sorted(sort_list_key_val[count: count+j], key = lambda x: x[0], reverse = False)\n",
    "            alpha_sort.append(sort_level_2)\n",
    "            count+=j\n",
    "        else:\n",
    "            alpha_sort.append([sort_list_key_val[count]])\n",
    "            count+=j\n",
    "    #after second step of sorting, we unpack from list of lists coz we only need the keys(original numbers)\n",
    "    unpack_1 = [j for i in alpha_sort for j in i] \n",
    "    #converting it to a string\n",
    "    strng_new = \"\"\n",
    "    for i in unpack_1:\n",
    "        strng_new+= str(i[0])+\" \"\n",
    "    strng_new = strng_new.strip()\n",
    "    return strng_new"
   ]
  },
  {
   "cell_type": "code",
   "execution_count": 193,
   "metadata": {
    "scrolled": true
   },
   "outputs": [
    {
     "data": {
      "text/plain": [
       "'11 11 2000 10003 22 123 1234000 44444444 9999'"
      ]
     },
     "execution_count": 193,
     "metadata": {},
     "output_type": "execute_result"
    }
   ],
   "source": [
    "order_weight(\"2000 10003 11 11 123 22 1234000 44444444 9999\")"
   ]
  },
  {
   "cell_type": "code",
   "execution_count": 204,
   "metadata": {},
   "outputs": [],
   "source": [
    "#sorting it alphabetically and then sorting it based on the lambda function.. (WORKS) !!! Got IT!!!!\n",
    "def order_weight(_str):\n",
    "    print(sorted(_str.split(' ')))\n",
    "    return ' '.join(sorted(sorted(_str.split(' ')), key= lambda x: sum(int(c) for c in x)))"
   ]
  },
  {
   "cell_type": "code",
   "execution_count": 205,
   "metadata": {},
   "outputs": [
    {
     "name": "stdout",
     "output_type": "stream",
     "text": [
      "['10003', '11', '11', '123', '1234000', '2000', '22', '44444444', '9999']\n"
     ]
    },
    {
     "data": {
      "text/plain": [
       "'11 11 2000 10003 22 123 1234000 44444444 9999'"
      ]
     },
     "execution_count": 205,
     "metadata": {},
     "output_type": "execute_result"
    }
   ],
   "source": [
    "order_weight(\"2000 10003 11 11 123 22 1234000 44444444 9999\")"
   ]
  }
 ],
 "metadata": {
  "kernelspec": {
   "display_name": "Python 3",
   "language": "python",
   "name": "python3"
  },
  "language_info": {
   "codemirror_mode": {
    "name": "ipython",
    "version": 3
   },
   "file_extension": ".py",
   "mimetype": "text/x-python",
   "name": "python",
   "nbconvert_exporter": "python",
   "pygments_lexer": "ipython3",
   "version": "3.7.3"
  }
 },
 "nbformat": 4,
 "nbformat_minor": 2
}
