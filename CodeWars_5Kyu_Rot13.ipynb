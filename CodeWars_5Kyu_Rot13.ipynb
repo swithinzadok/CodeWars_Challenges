{
 "cells": [
  {
   "cell_type": "code",
   "execution_count": 29,
   "metadata": {},
   "outputs": [],
   "source": [
    "def rot13(message):\n",
    "    import string\n",
    "    new_message = \"\"\n",
    "    lc = list(string.ascii_lowercase)\n",
    "    uc = list(string.ascii_uppercase)\n",
    "    for i in message:\n",
    "        if i in lc+uc:\n",
    "            if i in lc:\n",
    "                new_message+= (lc*2)[lc.index(i)+13]\n",
    "            if i in uc:\n",
    "                new_message+= (uc*2)[uc.index(i)+13]\n",
    "        else:\n",
    "            new_message+= i\n",
    "    return new_message"
   ]
  },
  {
   "cell_type": "code",
   "execution_count": 30,
   "metadata": {},
   "outputs": [
    {
     "data": {
      "text/plain": [
       "'FjvguvaM'"
      ]
     },
     "execution_count": 30,
     "metadata": {},
     "output_type": "execute_result"
    }
   ],
   "source": [
    "rot13('SwithinZ')"
   ]
  },
  {
   "cell_type": "code",
   "execution_count": 6,
   "metadata": {},
   "outputs": [],
   "source": [
    "list_a = list(a)"
   ]
  },
  {
   "cell_type": "code",
   "execution_count": null,
   "metadata": {},
   "outputs": [],
   "source": []
  }
 ],
 "metadata": {
  "kernelspec": {
   "display_name": "Python 3",
   "language": "python",
   "name": "python3"
  },
  "language_info": {
   "codemirror_mode": {
    "name": "ipython",
    "version": 3
   },
   "file_extension": ".py",
   "mimetype": "text/x-python",
   "name": "python",
   "nbconvert_exporter": "python",
   "pygments_lexer": "ipython3",
   "version": "3.7.3"
  }
 },
 "nbformat": 4,
 "nbformat_minor": 2
}
