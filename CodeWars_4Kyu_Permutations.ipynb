{
 "cells": [
  {
   "cell_type": "code",
   "execution_count": null,
   "metadata": {},
   "outputs": [],
   "source": [
    "#works but inefficient\n",
    "import itertools\n",
    "def permutations(string):\n",
    "    counts = {}\n",
    "    for i in string:\n",
    "        counts[i] = string.count(i)\n",
    "    listOfLists = []\n",
    "    for i in range(len(string)):\n",
    "        listOfLists.append([i for i in string])\n",
    "    #create all possible combinations , including duplicattes\n",
    "    combinations = list(itertools.product(*listOfLists)) \n",
    "    #only adding elements if their count in the list within the list equals the value in dictionary\n",
    "    comb_main = []\n",
    "    for i in combinations:\n",
    "        comb= []\n",
    "        for j in i:\n",
    "            if i.count(j) == counts[j]:\n",
    "                comb.append(j)\n",
    "        comb_main.append(comb)\n",
    "    #making sure length of each list is equal to the length of the string\n",
    "    comb_main_2 = [i for i in comb_main if len(i) ==len(string) ]\n",
    "    #taking just unique lists\n",
    "    comb_main_3 = []\n",
    "    for i in comb_main_2:\n",
    "        if i not in comb_main_3:\n",
    "            comb_main_3.append(i)\n",
    "    strings = []\n",
    "    for i in comb_main_3:\n",
    "        strng = \"\"\n",
    "        for j in i:\n",
    "            strng+=j\n",
    "        strings.append(strng)\n",
    "    #converting them to strings\n",
    "    #strngs = [\"\".join(i) for i in comb_main_3]\n",
    "    return strings\n",
    "                \n",
    "    #your code here"
   ]
  },
  {
   "cell_type": "code",
   "execution_count": null,
   "metadata": {
    "scrolled": true
   },
   "outputs": [],
   "source": [
    "permutations('abaadd')"
   ]
  },
  {
   "cell_type": "code",
   "execution_count": null,
   "metadata": {},
   "outputs": [],
   "source": [
    "#Solution 1\n",
    "def permutations(string, step = 0):\n",
    "    if step == len(string):\n",
    "        # we've gotten to the end, print the permutation\n",
    "        print \"\".join(string)\n",
    "    for i in range(step, len(string)):\n",
    "        # copy the string (store as array)\n",
    "        string_copy = [c for c in string]\n",
    "         # swap the current index with the step\n",
    "        string_copy[step], string_copy[i] =string_copy[i], string_copy[step]\n",
    "         # recurse on the portion of the stringthat has not been swapped yet\n",
    "        permutations(string_copy, step + 1)\n",
    "print (permutations ('one'))"
   ]
  },
  {
   "cell_type": "code",
   "execution_count": null,
   "metadata": {},
   "outputs": [],
   "source": [
    "# Solution 2\n",
    "# Python program to print all permutations with \n",
    "# duplicates allowed \n",
    "  \n",
    "def toString(List): \n",
    "    return ''.join(List) \n",
    "  \n",
    "# Function to print permutations of string \n",
    "# This function takes three parameters: \n",
    "# 1. String \n",
    "# 2. Starting index of the string \n",
    "# 3. Ending index of the string. \n",
    "def permute(a, l, r): \n",
    "    if l == r: \n",
    "        print (toString(a)) \n",
    "    else: \n",
    "        for i in range(l, r + 1): \n",
    "            a[l], a[i] = a[i], a[l] \n",
    "            permute(a, l + 1, r) \n",
    "            a[l], a[i] = a[i], a[l] # backtrack \n"
   ]
  },
  {
   "cell_type": "code",
   "execution_count": null,
   "metadata": {},
   "outputs": [],
   "source": [
    "permute('SWI', 0,2)"
   ]
  },
  {
   "cell_type": "code",
   "execution_count": 5,
   "metadata": {},
   "outputs": [],
   "source": [
    "def permutations(string):\n",
    "    string = [i for i in string]\n",
    "    string_perm = []\n",
    "    for i in range(len(string)-1):\n",
    "        \n",
    "    return string_perm "
   ]
  },
  {
   "cell_type": "code",
   "execution_count": 6,
   "metadata": {},
   "outputs": [
    {
     "name": "stdout",
     "output_type": "stream",
     "text": [
      "['i', 'w', 's']\n",
      "[['i', 'w', 's']]\n",
      "['i', 's', 'w']\n",
      "[['i', 's', 'w'], ['i', 's', 'w']]\n"
     ]
    },
    {
     "data": {
      "text/plain": [
       "[['i', 's', 'w'], ['i', 's', 'w']]"
      ]
     },
     "execution_count": 6,
     "metadata": {},
     "output_type": "execute_result"
    }
   ],
   "source": [
    "permutations('swi')"
   ]
  },
  {
   "cell_type": "code",
   "execution_count": 40,
   "metadata": {},
   "outputs": [
    {
     "data": {
      "text/plain": [
       "[['i', 'w', 's'], ['i', 's', 'w']]"
      ]
     },
     "execution_count": 40,
     "metadata": {},
     "output_type": "execute_result"
    }
   ],
   "source": [
    "count = 0\n",
    "def permutations(a):\n",
    "    perms = []\n",
    "    for i in range(len(a)-1):\n",
    "        a[i], a[2] = a[2], a[i]\n",
    "        perms.append(a[:])      \n",
    "    return perms\n",
    "    \n",
    "#using the : is very important otherwise we will get undesirable results\n",
    "#https://stackoverflow.com/questions/6360286/why-does-foo-appendbar-affect-all-elements-in-a-list-of-lists\n",
    "\n",
    "permutations(['s','w','i'])"
   ]
  },
  {
   "cell_type": "code",
   "execution_count": 41,
   "metadata": {},
   "outputs": [
    {
     "ename": "KeyboardInterrupt",
     "evalue": "",
     "output_type": "error",
     "traceback": [
      "\u001b[0;31m---------------------------------------------------------------------------\u001b[0m",
      "\u001b[0;31mKeyboardInterrupt\u001b[0m                         Traceback (most recent call last)",
      "\u001b[0;32m<ipython-input-41-874c6c1c7c90>\u001b[0m in \u001b[0;36m<module>\u001b[0;34m\u001b[0m\n\u001b[1;32m      1\u001b[0m \u001b[0ma\u001b[0m \u001b[0;34m=\u001b[0m \u001b[0;34m[\u001b[0m\u001b[0;34m'a'\u001b[0m\u001b[0;34m,\u001b[0m \u001b[0;34m'b'\u001b[0m\u001b[0;34m]\u001b[0m\u001b[0;34m\u001b[0m\u001b[0;34m\u001b[0m\u001b[0m\n\u001b[1;32m      2\u001b[0m \u001b[0;32mfor\u001b[0m \u001b[0mi\u001b[0m \u001b[0;32min\u001b[0m \u001b[0ma\u001b[0m\u001b[0;34m:\u001b[0m\u001b[0;34m\u001b[0m\u001b[0;34m\u001b[0m\u001b[0m\n\u001b[0;32m----> 3\u001b[0;31m     \u001b[0ma\u001b[0m\u001b[0;34m.\u001b[0m\u001b[0mappend\u001b[0m\u001b[0;34m(\u001b[0m\u001b[0;34m'a'\u001b[0m\u001b[0;34m)\u001b[0m\u001b[0;34m\u001b[0m\u001b[0;34m\u001b[0m\u001b[0m\n\u001b[0m\u001b[1;32m      4\u001b[0m \u001b[0mprint\u001b[0m\u001b[0;34m(\u001b[0m\u001b[0ma\u001b[0m\u001b[0;34m)\u001b[0m\u001b[0;34m\u001b[0m\u001b[0;34m\u001b[0m\u001b[0m\n",
      "\u001b[0;31mKeyboardInterrupt\u001b[0m: "
     ]
    }
   ],
   "source": [
    "a = ['a', 'b']\n",
    "for i in a:\n",
    "    a.append('a')\n",
    "print(a)"
   ]
  },
  {
   "cell_type": "code",
   "execution_count": null,
   "metadata": {},
   "outputs": [],
   "source": []
  },
  {
   "cell_type": "code",
   "execution_count": 38,
   "metadata": {},
   "outputs": [],
   "source": [
    "from itertools import permutations\n",
    "def perm(string):\n",
    "    perms = [''.join(p) for p in permutations(string)]\n",
    "    return perms"
   ]
  },
  {
   "cell_type": "code",
   "execution_count": 39,
   "metadata": {
    "collapsed": true
   },
   "outputs": [
    {
     "data": {
      "text/plain": [
       "['swith',\n",
       " 'swiht',\n",
       " 'swtih',\n",
       " 'swthi',\n",
       " 'swhit',\n",
       " 'swhti',\n",
       " 'siwth',\n",
       " 'siwht',\n",
       " 'sitwh',\n",
       " 'sithw',\n",
       " 'sihwt',\n",
       " 'sihtw',\n",
       " 'stwih',\n",
       " 'stwhi',\n",
       " 'stiwh',\n",
       " 'stihw',\n",
       " 'sthwi',\n",
       " 'sthiw',\n",
       " 'shwit',\n",
       " 'shwti',\n",
       " 'shiwt',\n",
       " 'shitw',\n",
       " 'shtwi',\n",
       " 'shtiw',\n",
       " 'wsith',\n",
       " 'wsiht',\n",
       " 'wstih',\n",
       " 'wsthi',\n",
       " 'wshit',\n",
       " 'wshti',\n",
       " 'wisth',\n",
       " 'wisht',\n",
       " 'witsh',\n",
       " 'withs',\n",
       " 'wihst',\n",
       " 'wihts',\n",
       " 'wtsih',\n",
       " 'wtshi',\n",
       " 'wtish',\n",
       " 'wtihs',\n",
       " 'wthsi',\n",
       " 'wthis',\n",
       " 'whsit',\n",
       " 'whsti',\n",
       " 'whist',\n",
       " 'whits',\n",
       " 'whtsi',\n",
       " 'whtis',\n",
       " 'iswth',\n",
       " 'iswht',\n",
       " 'istwh',\n",
       " 'isthw',\n",
       " 'ishwt',\n",
       " 'ishtw',\n",
       " 'iwsth',\n",
       " 'iwsht',\n",
       " 'iwtsh',\n",
       " 'iwths',\n",
       " 'iwhst',\n",
       " 'iwhts',\n",
       " 'itswh',\n",
       " 'itshw',\n",
       " 'itwsh',\n",
       " 'itwhs',\n",
       " 'ithsw',\n",
       " 'ithws',\n",
       " 'ihswt',\n",
       " 'ihstw',\n",
       " 'ihwst',\n",
       " 'ihwts',\n",
       " 'ihtsw',\n",
       " 'ihtws',\n",
       " 'tswih',\n",
       " 'tswhi',\n",
       " 'tsiwh',\n",
       " 'tsihw',\n",
       " 'tshwi',\n",
       " 'tshiw',\n",
       " 'twsih',\n",
       " 'twshi',\n",
       " 'twish',\n",
       " 'twihs',\n",
       " 'twhsi',\n",
       " 'twhis',\n",
       " 'tiswh',\n",
       " 'tishw',\n",
       " 'tiwsh',\n",
       " 'tiwhs',\n",
       " 'tihsw',\n",
       " 'tihws',\n",
       " 'thswi',\n",
       " 'thsiw',\n",
       " 'thwsi',\n",
       " 'thwis',\n",
       " 'thisw',\n",
       " 'thiws',\n",
       " 'hswit',\n",
       " 'hswti',\n",
       " 'hsiwt',\n",
       " 'hsitw',\n",
       " 'hstwi',\n",
       " 'hstiw',\n",
       " 'hwsit',\n",
       " 'hwsti',\n",
       " 'hwist',\n",
       " 'hwits',\n",
       " 'hwtsi',\n",
       " 'hwtis',\n",
       " 'hiswt',\n",
       " 'histw',\n",
       " 'hiwst',\n",
       " 'hiwts',\n",
       " 'hitsw',\n",
       " 'hitws',\n",
       " 'htswi',\n",
       " 'htsiw',\n",
       " 'htwsi',\n",
       " 'htwis',\n",
       " 'htisw',\n",
       " 'htiws']"
      ]
     },
     "execution_count": 39,
     "metadata": {},
     "output_type": "execute_result"
    }
   ],
   "source": [
    "perm('swith')"
   ]
  },
  {
   "cell_type": "code",
   "execution_count": 28,
   "metadata": {},
   "outputs": [
    {
     "name": "stdout",
     "output_type": "stream",
     "text": [
      "['i', 's', 'w']\n",
      "['i', 'w', 's']\n"
     ]
    }
   ],
   "source": [
    "b = ['w', 's', 'i']\n",
    "for i in range(len(b)-1):\n",
    "    b[i], b[2] = b[2], b[i]\n",
    "    print(b)"
   ]
  },
  {
   "cell_type": "code",
   "execution_count": 10,
   "metadata": {},
   "outputs": [
    {
     "name": "stdout",
     "output_type": "stream",
     "text": [
      "['s', 'i', 'w']\n",
      "['s', 'w', 'i']\n"
     ]
    }
   ],
   "source": [
    "c = ['w', 'i', 's']\n",
    "for i in range(len(c)-1):\n",
    "    c[i], c[2] = c[2], c[i]\n",
    "    print(c)"
   ]
  },
  {
   "cell_type": "code",
   "execution_count": 48,
   "metadata": {},
   "outputs": [],
   "source": [
    "def perm1(lst):\n",
    "\tif len(lst) == 0:\n",
    "\t\treturn []\n",
    "\telif len(lst) == 1:\n",
    "\t\treturn [lst]\n",
    "\telse:\n",
    "\t\tl = []\n",
    "\t\tfor i in range(len(lst)):\n",
    "\t\t\tx = lst[i]\n",
    "\t\t\txs = lst[:i] + lst[i+1:]\n",
    "\t\t\tprint(xs)\n",
    "\t\t\tfor p in perm1(xs):\n",
    "\t\t\t\tl.append([x] + p)\n",
    "\t\treturn l"
   ]
  },
  {
   "cell_type": "code",
   "execution_count": 49,
   "metadata": {},
   "outputs": [
    {
     "name": "stdout",
     "output_type": "stream",
     "text": [
      "['w', 'i']\n",
      "['i']\n",
      "['w']\n",
      "['s', 'i']\n",
      "['i']\n",
      "['s']\n",
      "['s', 'w']\n",
      "['w']\n",
      "['s']\n"
     ]
    },
    {
     "data": {
      "text/plain": [
       "[['s', 'w', 'i'],\n",
       " ['s', 'i', 'w'],\n",
       " ['w', 's', 'i'],\n",
       " ['w', 'i', 's'],\n",
       " ['i', 's', 'w'],\n",
       " ['i', 'w', 's']]"
      ]
     },
     "execution_count": 49,
     "metadata": {},
     "output_type": "execute_result"
    }
   ],
   "source": [
    "perm1(['s','w','i'])"
   ]
  },
  {
   "cell_type": "code",
   "execution_count": null,
   "metadata": {},
   "outputs": [],
   "source": [
    "def perm2(lst):\n",
    "\tif len(lst) == 0:\n",
    "\t\tyield []\n",
    "\telif len(lst) == 1:\n",
    "\t\tyield lst\n",
    "\telse:\n",
    "\t\tfor i in range(len(lst)):\n",
    "\t\t\tx = lst[i]\n",
    "\t\t\txs = lst[:i] + lst[i+1:]\n",
    "\t\t\tfor p in perm2(xs):\n",
    "\t\t\t\tyield [x] + p"
   ]
  }
 ],
 "metadata": {
  "kernelspec": {
   "display_name": "Python 3",
   "language": "python",
   "name": "python3"
  },
  "language_info": {
   "codemirror_mode": {
    "name": "ipython",
    "version": 3
   },
   "file_extension": ".py",
   "mimetype": "text/x-python",
   "name": "python",
   "nbconvert_exporter": "python",
   "pygments_lexer": "ipython3",
   "version": "3.7.3"
  }
 },
 "nbformat": 4,
 "nbformat_minor": 2
}
