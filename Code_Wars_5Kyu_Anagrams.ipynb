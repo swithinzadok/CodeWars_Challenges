{
 "cells": [
  {
   "cell_type": "code",
   "execution_count": 40,
   "metadata": {},
   "outputs": [],
   "source": [
    "def anagrams(word, words):\n",
    "    letters = set(x for x in word)\n",
    "    anagram = []\n",
    "    for w in words:\n",
    "        if len(w)==len(word):\n",
    "            if len(set(a for a in w) - letters) ==0 and len(letters -set(a for a in w)) ==0 :\n",
    "                anagram.append(w)\n",
    "                print(set(a for a in w))\n",
    "    return anagram\n",
    "        \n",
    "    #your code here"
   ]
  },
  {
   "cell_type": "code",
   "execution_count": 41,
   "metadata": {},
   "outputs": [
    {
     "data": {
      "text/plain": [
       "[]"
      ]
     },
     "execution_count": 41,
     "metadata": {},
     "output_type": "execute_result"
    }
   ],
   "source": [
    "anagrams('igbbbbbbg', ['acc','iws', 'wiis', 'biig'])"
   ]
  },
  {
   "cell_type": "code",
   "execution_count": 42,
   "metadata": {},
   "outputs": [],
   "source": [
    "#filter function in python\n",
    "def anagrams(word, words):\n",
    "    return list(filter(lambda x: sorted(word) == sorted(x), words))\n",
    "# lambda x equals every x in words . think of (for x in words) \n",
    "# condition "
   ]
  },
  {
   "cell_type": "code",
   "execution_count": 43,
   "metadata": {},
   "outputs": [
    {
     "data": {
      "text/plain": [
       "<filter at 0x112647b00>"
      ]
     },
     "execution_count": 43,
     "metadata": {},
     "output_type": "execute_result"
    }
   ],
   "source": [
    "anagrams('swithin', ['swithin', 'swihtin'])"
   ]
  },
  {
   "cell_type": "code",
   "execution_count": 44,
   "metadata": {},
   "outputs": [
    {
     "data": {
      "text/plain": [
       "['swithin', 'swihtin']"
      ]
     },
     "execution_count": 44,
     "metadata": {},
     "output_type": "execute_result"
    }
   ],
   "source": [
    "list(anagrams('swithin', ['swithin', 'swihtin']))"
   ]
  },
  {
   "cell_type": "code",
   "execution_count": null,
   "metadata": {},
   "outputs": [],
   "source": []
  }
 ],
 "metadata": {
  "kernelspec": {
   "display_name": "Python 3",
   "language": "python",
   "name": "python3"
  },
  "language_info": {
   "codemirror_mode": {
    "name": "ipython",
    "version": 3
   },
   "file_extension": ".py",
   "mimetype": "text/x-python",
   "name": "python",
   "nbconvert_exporter": "python",
   "pygments_lexer": "ipython3",
   "version": "3.7.3"
  }
 },
 "nbformat": 4,
 "nbformat_minor": 2
}
