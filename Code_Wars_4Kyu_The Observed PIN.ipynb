{
 "cells": [
  {
   "cell_type": "code",
   "execution_count": 29,
   "metadata": {},
   "outputs": [],
   "source": [
    "def get_pins(observed):\n",
    "    import itertools\n",
    "    observed_PIN_digits = [int(digit) for digit in observed]\n",
    "    #try a 2_D array\n",
    "    array_2D = [['1','2','3'], ['4','5','6'], ['7','8','9'], ['0','0','0']]\n",
    "    adjacents = [(1,2,4), (2,1,3,5), (3,2,6), (4,5,1,7), (5,4,6,2,8), (6,5,3,9), (7,8,4), (8,7,9,5,0), (9,8,6), (0,8)]\n",
    "    combine_this = []\n",
    "    for i in observed_PIN_digits:\n",
    "        for j in adjacents:\n",
    "            if i == j[0]:\n",
    "                combine_this.append(j)\n",
    "    combinations = list(itertools.product(*combine_this))\n",
    "    combination_string = []\n",
    "    for i in combinations:\n",
    "        x= ''\n",
    "        for j in i:\n",
    "            x = x+str(j)\n",
    "        combination_string.append(x)\n",
    "    return combination_string"
   ]
  },
  {
   "cell_type": "code",
   "execution_count": 32,
   "metadata": {},
   "outputs": [
    {
     "data": {
      "text/plain": [
       "2880"
      ]
     },
     "execution_count": 32,
     "metadata": {},
     "output_type": "execute_result"
    }
   ],
   "source": [
    "len(get_pins('234567'))"
   ]
  },
  {
   "cell_type": "code",
   "execution_count": null,
   "metadata": {},
   "outputs": [],
   "source": []
  }
 ],
 "metadata": {
  "kernelspec": {
   "display_name": "Python 3",
   "language": "python",
   "name": "python3"
  },
  "language_info": {
   "codemirror_mode": {
    "name": "ipython",
    "version": 3
   },
   "file_extension": ".py",
   "mimetype": "text/x-python",
   "name": "python",
   "nbconvert_exporter": "python",
   "pygments_lexer": "ipython3",
   "version": "3.7.3"
  }
 },
 "nbformat": 4,
 "nbformat_minor": 2
}
