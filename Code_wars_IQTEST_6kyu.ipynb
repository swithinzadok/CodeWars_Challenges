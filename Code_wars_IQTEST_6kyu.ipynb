{
 "cells": [
  {
   "cell_type": "code",
   "execution_count": 6,
   "metadata": {},
   "outputs": [],
   "source": [
    "def iq_test(numbers):\n",
    "    numbers = numbers.split(\" \")\n",
    "    numbers = [int(i) for i in numbers]\n",
    "    x = [i for i in numbers if int(i)%2 ==0]\n",
    "    y = [i for i in numbers if i%2 != 0]\n",
    "    if len(x) < len(y) :\n",
    "        z =  numbers.index(x[0])\n",
    "    else:\n",
    "        z = numbers.index(y[0])\n",
    "    return z+1"
   ]
  },
  {
   "cell_type": "code",
   "execution_count": 8,
   "metadata": {},
   "outputs": [
    {
     "data": {
      "text/plain": [
       "5"
      ]
     },
     "execution_count": 8,
     "metadata": {},
     "output_type": "execute_result"
    }
   ],
   "source": [
    "iq_test(\"2 4 6 8 3\")"
   ]
  },
  {
   "cell_type": "code",
   "execution_count": null,
   "metadata": {},
   "outputs": [],
   "source": [
    "#Shorter \n",
    "def iq_test(numbers):\n",
    "    e = [int(i) % 2 == 0 for i in numbers.split()]\n",
    "\n",
    "    return e.index(True) + 1 if e.count(True) == 1 else e.index(False) + 1\n",
    "    "
   ]
  }
 ],
 "metadata": {
  "kernelspec": {
   "display_name": "Python 3",
   "language": "python",
   "name": "python3"
  },
  "language_info": {
   "codemirror_mode": {
    "name": "ipython",
    "version": 3
   },
   "file_extension": ".py",
   "mimetype": "text/x-python",
   "name": "python",
   "nbconvert_exporter": "python",
   "pygments_lexer": "ipython3",
   "version": "3.7.3"
  }
 },
 "nbformat": 4,
 "nbformat_minor": 2
}
